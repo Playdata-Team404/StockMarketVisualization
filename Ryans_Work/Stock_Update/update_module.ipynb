{
 "cells": [
  {
   "cell_type": "code",
   "execution_count": 3,
   "metadata": {},
   "outputs": [],
   "source": [
    "from selenium import webdriver\n",
    "from bs4 import BeautifulSoup\n",
    "import requests\n",
    "import time\n",
    "import pandas as pd\n",
    "import matplotlib.pyplot as plt\n",
    "from mpl_finance import candlestick2_ohlc\n",
    "import matplotlib.ticker as ticker\n",
    "import matplotlib.pyplot as plt\n",
    "import pandas as pd \n",
    "from datetime import datetime\n",
    "from IPython.display import display\n",
    "import warnings"
   ]
  },
  {
   "cell_type": "code",
   "execution_count": null,
   "metadata": {},
   "outputs": [],
   "source": [
    "def stock_update(n):\n",
    "    driver = webdriver.Chrome('C:/driver/chromedriver')\n",
    "    driver.get('https://m.stock.naver.com/index.html#/domestic/capitalization/KOSPI')\n",
    "    stock=[]\n",
    "    for i in range(1,n):\n",
    "\n",
    "        driver.find_element_by_xpath('//*[@id=\"content\"]/div[4]/div[2]/div[2]/div[1]/table/tbody/tr[{}]/td[1]/span[1]'.format(i)).click()\n",
    "        time.sleep(1)\n",
    "        driver.find_element_by_xpath('//*[@id=\"common_component_tab\"]/div/ul/li[4]/a').click()\n",
    "        time.sleep(1)\n",
    "        html = driver.page_source\n",
    "        soup=BeautifulSoup(html, 'html.parser')\n",
    "        \n",
    "        for i in soup.select_one('tbody'):\n",
    "            company=[]\n",
    "            company.append(driver.find_element_by_xpath('//*[@id=\"content\"]/div[2]/div[1]/div[1]/span[1]').text[:6])\n",
    "            company.append(driver.find_element_by_xpath('//*[@id=\"content\"]/div[2]/div[1]/div[1]/span[2]').text)\n",
    "\n",
    "        for i in soup.select('#content > div:nth-child(4) > div:nth-child(3) > div:nth-child(2) > div > div.VTablePrice_article__DfdmT > table > tbody > tr:nth-child(1)'):\n",
    "            company.append(i.select('.VTablePrice_td__PZi0o')[0].text)\n",
    "            company.append(int(i.select('.VTablePrice_td__PZi0o')[1].text.replace(',','')))\n",
    "            company.append(int(i.select('.VTablePrice_td__PZi0o')[4].text.replace(',','')))\n",
    "            company.append(int(i.select('.VTablePrice_td__PZi0o')[5].text.replace(',','')))\n",
    "            company.append(int(i.select('.VTablePrice_td__PZi0o')[6].text.replace(',','')))\n",
    "            company.append(int(i.select('.VTablePrice_td__PZi0o')[7].text.replace(',','')))\n",
    "\n",
    "        stock.append(company)\n",
    "\n",
    "        driver.back()\n",
    "        driver.back()\n",
    "        time.sleep(1)\n",
    "\n",
    "\n",
    "    col=['code','name','date','close','open','high','low','volume']\n",
    "    df = pd.DataFrame(stock,columns=col)\n",
    "    df.to_csv(\"stock.csv\", mode='a',header=True,index=False)  \n",
    "\n",
    "    return df"
   ]
  },
  {
   "cell_type": "code",
   "execution_count": null,
   "metadata": {},
   "outputs": [],
   "source": [
    "stock_update(3)"
   ]
  },
  {
   "cell_type": "code",
   "execution_count": null,
   "metadata": {},
   "outputs": [],
   "source": []
  },
  {
   "cell_type": "code",
   "execution_count": null,
   "metadata": {},
   "outputs": [],
   "source": []
  },
  {
   "cell_type": "code",
   "execution_count": null,
   "metadata": {},
   "outputs": [],
   "source": []
  },
  {
   "cell_type": "code",
   "execution_count": null,
   "metadata": {},
   "outputs": [],
   "source": []
  },
  {
   "cell_type": "code",
   "execution_count": null,
   "metadata": {},
   "outputs": [],
   "source": []
  },
  {
   "cell_type": "code",
   "execution_count": null,
   "metadata": {},
   "outputs": [],
   "source": []
  },
  {
   "cell_type": "code",
   "execution_count": null,
   "metadata": {},
   "outputs": [],
   "source": []
  },
  {
   "cell_type": "code",
   "execution_count": null,
   "metadata": {},
   "outputs": [],
   "source": []
  },
  {
   "cell_type": "code",
   "execution_count": null,
   "metadata": {},
   "outputs": [],
   "source": []
  },
  {
   "cell_type": "code",
   "execution_count": null,
   "metadata": {},
   "outputs": [],
   "source": []
  }
 ],
 "metadata": {
  "kernelspec": {
   "display_name": "Python 3",
   "language": "python",
   "name": "python3"
  },
  "language_info": {
   "codemirror_mode": {
    "name": "ipython",
    "version": 3
   },
   "file_extension": ".py",
   "mimetype": "text/x-python",
   "name": "python",
   "nbconvert_exporter": "python",
   "pygments_lexer": "ipython3",
   "version": "3.8.5"
  }
 },
 "nbformat": 4,
 "nbformat_minor": 4
}
