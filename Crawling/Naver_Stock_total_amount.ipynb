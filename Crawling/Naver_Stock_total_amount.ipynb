{
 "cells": [
  {
   "cell_type": "code",
   "execution_count": null,
   "metadata": {},
   "outputs": [],
   "source": [
    "from selenium import webdriver\n",
    "from bs4 import BeautifulSoup\n",
    "import requests\n",
    "import time\n",
    "import pandas as pd\n",
    "import matplotlib.pyplot as plt\n",
    "from mpl_finance import candlestick2_ohlc\n",
    "import matplotlib.ticker as ticker\n",
    "import matplotlib.pyplot as plt\n",
    "import pandas as pd\n",
    "from pandas_datareader import data  \n",
    "from datetime import datetime\n",
    "from IPython.display import display\n",
    "import warnings\n",
    "warnings.filterwarnings('ignore')"
   ]
  },
  {
   "cell_type": "code",
   "execution_count": null,
   "metadata": {},
   "outputs": [],
   "source": [
    "driver = webdriver.Chrome('C:\\/chromedriver.exe')\n",
    "driver.get('https://m.stock.naver.com/index.html#/domestic/capitalization/KOSPI')"
   ]
  },
  {
   "cell_type": "code",
   "execution_count": null,
   "metadata": {},
   "outputs": [],
   "source": [
    "driver.find_element_by_xpath('//*[@id=\"content\"]/div[4]/div[2]/div[2]/div[1]/table/tbody/tr[2]/td[1]/span[1]').click()"
   ]
  },
  {
   "cell_type": "code",
   "execution_count": null,
   "metadata": {},
   "outputs": [],
   "source": [
    "# 주식 크롤링\n",
    "def stock(n):\n",
    "    driver = webdriver.Chrome('C:\\/chromedriver.exe')\n",
    "    driver.get('https://m.stock.naver.com/index.html#/domestic/capitalization/KOSPI')\n",
    "    stock=[]\n",
    "    for i in range(1,n):\n",
    "\n",
    "        driver.find_element_by_xpath('//*[@id=\"content\"]/div[4]/div[2]/div[2]/div[1]/table/tbody/tr[{}]/td[1]/span[1]'.format(i)).click()\n",
    "        time.sleep(1)\n",
    "        driver.find_element_by_xpath('//*[@id=\"common_component_tab\"]/div/ul/li[4]/a').click()\n",
    "        for i in range(3):\n",
    "            driver.execute_script(\"window.scrollTo(0, document.body.scrollHeight);\")\n",
    "            time.sleep(1)\n",
    "        time.sleep(1)\n",
    "        html = driver.page_source\n",
    "        soup=BeautifulSoup(html, 'html.parser')\n",
    "\n",
    "        for i in soup.select_one('tbody'):\n",
    "            company=[]\n",
    "            company.append(driver.find_element_by_xpath('//*[@id=\"content\"]/div[2]/div[1]/div[1]/span[1]').text)\n"
    "            company.append(driver.find_element_by_xpath('//*[@id=\"content\"]/div[2]/div[1]/div[1]/span[2]').text)\n",
    "            company.append(i.select('.VTablePrice_td__PZi0o')[0].text)\n",
    "            company.append(int(i.select('.VTablePrice_td__PZi0o')[1].text.replace(',','')))\n",
    "            company.append(int(i.select('.VTablePrice_td__PZi0o')[4].text.replace(',','')))\n",
    "            company.append(int(i.select('.VTablePrice_td__PZi0o')[5].text.replace(',','')))\n",
    "            company.append(int(i.select('.VTablePrice_td__PZi0o')[6].text.replace(',','')))\n",
    "            company.append(int(i.select('.VTablePrice_td__PZi0o')[7].text.replace(',','')))\n",
    "\n",
    "            \n",
    "            \n",
    "            \n",
    "            \n",
    "            \n",
    "            stock.append(company)\n",
    "    #         print(stock)\n",
    "        driver.back()\n",
    "\n",
    "        driver.back()\n",
    "        time.sleep(1)\n",
    "\n",
    "\n",
    "    col=['code','name','date','end','start','high','low','volume']\n",
    "    df = pd.DataFrame(stock,columns=col)\n",
    "    df\n",
    "    df.to_csv(\"stock.csv\", mode='a',header=True,index=False)   \n",
    "\n",
    "    return df"
   ]
  },
  {
   "cell_type": "code",
   "execution_count": null,
   "metadata": {},
   "outputs": [],
   "source": [
    "stock(11)"
   ]
  },
  {
   "cell_type": "code",
   "execution_count": null,
   "metadata": {},
   "outputs": [],
   "source": [
    "#캔들차트 \n",
    "def stock_candle(n):\n",
    "    df=pd.read_csv('./stock.csv')\n",
    "    df_=df[df['name']==n]\n",
    "    df_['MA3'] = df_['end'].rolling(3).mean()\n",
    "    df_['MA5'] = df_['end'].rolling(5).mean()\n",
    "    df_['MA10'] = df_['end'].rolling(10).mean()\n",
    "    df_['MA20'] = df_['end'].rolling(20).mean()\n",
    "\n",
    "    # 그래프 그리기\n",
    "    fig, ax = plt.subplots(figsize=(10,5))\n",
    "\n",
    "    ax.set_title('INDEX', fontsize=15)\n",
    "    ax.set_ylabel(\"Inter\")\n",
    "    ax.set_xlabel(\"Date Time\")\n",
    "    ax.plot(df_.index, df_[['end','MA5','MA10']])\n",
    "    ax.legend(['end','MA5','MA10'])\n",
    "    plt.show()\n",
    "    \n",
    "    \n",
    "    fig = plt.figure(figsize=(20,10))\n",
    "    ax = fig.add_subplot(111)\n",
    "    index = df_.index.astype('str') # 캔들스틱 x축이 str로 들어감\n",
    "\n",
    "    # 이동평균선 그리기\n",
    "    ax.plot(index, df_['MA3'], label='MA3', linewidth=0.7)\n",
    "    ax.plot(index, df_['MA5'], label='MA5', linewidth=0.7)\n",
    "    ax.plot(index, df_['MA10'], label='MA10', linewidth=0.7)\n",
    "\n",
    "    # X축 티커 숫자 20개로 제한\n",
    "    ax.xaxis.set_major_locator(ticker.MaxNLocator(20))\n",
    "\n",
    "    # 그래프 title과 축 이름 지정\n",
    "    ax.set_title('INDEX', fontsize=22)\n",
    "    ax.set_xlabel('Date')\n",
    "\n",
    "    # 캔들차트 그리기\n",
    "    candlestick2_ohlc(ax, df_['start'], df_['high'], \n",
    "                      df_['low'], df_['end'],\n",
    "                      width=0.5, colorup='r', colordown='b')\n",
    "    ax.legend()\n",
    "    plt.grid()\n",
    "    plt.show()"
   ]
  },
  {
   "cell_type": "code",
   "execution_count": null,
   "metadata": {},
   "outputs": [],
   "source": [
    "stock_candle('셀트리온')"
   ]
  },
  {
   "cell_type": "code",
   "execution_count": null,
   "metadata": {},
   "outputs": [],
   "source": []
  }
 ],
 "metadata": {
  "kernelspec": {
   "display_name": "Python 3",
   "language": "python",
   "name": "python3"
  },
  "language_info": {
   "codemirror_mode": {
    "name": "ipython",
    "version": 3
   },
   "file_extension": ".py",
   "mimetype": "text/x-python",
   "name": "python",
   "nbconvert_exporter": "python",
   "pygments_lexer": "ipython3",
   "version": "3.8.5"
  }
 },
 "nbformat": 4,
 "nbformat_minor": 4
}
